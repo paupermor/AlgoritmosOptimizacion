{
  "nbformat": 4,
  "nbformat_minor": 0,
  "metadata": {
    "colab": {
      "provenance": [],
      "authorship_tag": "ABX9TyOqqBnxmEF9CHh6dIbWmRkf",
      "include_colab_link": true
    },
    "kernelspec": {
      "name": "python3",
      "display_name": "Python 3"
    },
    "language_info": {
      "name": "python"
    }
  },
  "cells": [
    {
      "cell_type": "markdown",
      "metadata": {
        "id": "view-in-github",
        "colab_type": "text"
      },
      "source": [
        "<a href=\"https://colab.research.google.com/github/paupermor/AlgoritmosOptimizacion/blob/Fibonacci/Fibonacci.ipynb\" target=\"_parent\"><img src=\"https://colab.research.google.com/assets/colab-badge.svg\" alt=\"Open In Colab\"/></a>"
      ]
    },
    {
      "cell_type": "markdown",
      "source": [
        "# Fibonacci"
      ],
      "metadata": {
        "id": "6dU6suMrru7Q"
      }
    },
    {
      "cell_type": "markdown",
      "source": [
        "## Recursividad"
      ],
      "metadata": {
        "id": "_8n06qJgMuZ7"
      }
    },
    {
      "cell_type": "code",
      "source": [
        "def fibonacci_recursivo(n):\n",
        "    \"\"\"\n",
        "    Calcula el n-ésimo número de la secuencia de Fibonacci usando recursividad\n",
        "\n",
        "    Parámetros:\n",
        "        n (int): El índice del número de Fibonacci a calcular (n >= 0)\n",
        "\n",
        "    Salida:\n",
        "        (int): n-ésimo número de Fibonacci\n",
        "    \"\"\"\n",
        "    if n <= 0:\n",
        "        return 0\n",
        "    elif n == 1:\n",
        "        return 1\n",
        "    else:\n",
        "        return fibonacci_recursivo(n - 1) + fibonacci_recursivo(n - 2)\n"
      ],
      "metadata": {
        "id": "5gpJ4Fr1Myqt"
      },
      "execution_count": 12,
      "outputs": []
    },
    {
      "cell_type": "code",
      "source": [
        "# Ejemplo de uso:\n",
        "n = 10\n",
        "print(f\"El {n}-ésimo número de Fibonacci usando recursividad es: {fibonacci_recursivo(n)}\")"
      ],
      "metadata": {
        "colab": {
          "base_uri": "https://localhost:8080/"
        },
        "id": "VptAvAXjNFOu",
        "outputId": "01209586-b8c7-4b29-9654-787eb23af55b"
      },
      "execution_count": 13,
      "outputs": [
        {
          "output_type": "stream",
          "name": "stdout",
          "text": [
            "El 10-ésimo número de Fibonacci usando recursividad es: 55\n"
          ]
        }
      ]
    },
    {
      "cell_type": "markdown",
      "source": [
        "## Iteración"
      ],
      "metadata": {
        "id": "SJHvqV-0Mw5t"
      }
    },
    {
      "cell_type": "code",
      "source": [
        "def fibonacci_iterativo(n):\n",
        "    \"\"\"\n",
        "    Calcula el n-ésimo número de Fibonacci usando un enfoque iterativo\n",
        "    \"\"\"\n",
        "    if n <= 0:\n",
        "        return 0\n",
        "    elif n == 1:\n",
        "        return 1\n",
        "\n",
        "    a, b = 0, 1\n",
        "    for i in range(2, n + 1):\n",
        "        # a y b van almacenando los dos últimos valores\n",
        "        a, b = b, a + b\n",
        "\n",
        "    return b\n",
        ""
      ],
      "metadata": {
        "id": "WKjoJFf1NOTx"
      },
      "execution_count": 14,
      "outputs": []
    },
    {
      "cell_type": "code",
      "source": [
        "# Ejemplo de uso:\n",
        "n = 10\n",
        "print(f\"El {n}-ésimo número de Fibonacci con el enfoque iterativo es: {fibonacci_iterativo(n)}\")"
      ],
      "metadata": {
        "colab": {
          "base_uri": "https://localhost:8080/"
        },
        "id": "vMqYxUeLQYFF",
        "outputId": "5a7ec4de-037e-4063-85df-3623edfb90a1"
      },
      "execution_count": 15,
      "outputs": [
        {
          "output_type": "stream",
          "name": "stdout",
          "text": [
            "El 10-ésimo número de Fibonacci con el enfoque iterativo es: 55\n"
          ]
        }
      ]
    },
    {
      "cell_type": "markdown",
      "source": [
        "## Exponenciación matricial"
      ],
      "metadata": {
        "id": "ih2N0_Yxr_3n"
      }
    },
    {
      "cell_type": "markdown",
      "source": [
        "### Exponenciación rápida\n",
        "La manera obvia de elevar una matriz a una potencia $n$ es multiplicar la matriz por sí misma $n$ veces, pero puede que esta forma no sea suficientemente eficiente si $n$ es muy alto o tenemos que hacer muchísimas exponenciaciones. Por eso, existe otra manera de elevar una matriz a una potencia $n$ que tan solo requiere $O(\\log_{}(n))$ multiplicaciones, que se basa en la siguiente fórmula recursiva:\n",
        "\n",
        "$$\n",
        "a^n =\n",
        "\\begin{cases}\n",
        "\\left(a^{\\frac{n}{2}}\\right)^2 & \\text{si } n \\text{ es par} \\\\[10pt]\n",
        "\\left(a^{\\frac{n-1}{2}}\\right)^2 \\cdot a & \\text{si } n \\text{ es impar}\n",
        "\\end{cases}\n",
        "$$"
      ],
      "metadata": {
        "id": "AHLqNpD6uHIU"
      }
    },
    {
      "cell_type": "code",
      "source": [
        "# Imports\n",
        "import numpy as np"
      ],
      "metadata": {
        "id": "XV_zs08YuAN7"
      },
      "execution_count": 16,
      "outputs": []
    },
    {
      "cell_type": "code",
      "source": [
        "def matrix_exponentiation(matrix, n):\n",
        "    \"\"\"\n",
        "    Calcula la potencia de una matriz 2x2 usando exponenciación rápida\n",
        "    Parámetros:\n",
        "        matrix (numpy.ndarray): matriz a elevar (shape -> 2x2)\n",
        "        n (int): potencia a la que se eleva la matriz de entrada\n",
        "    Salida:\n",
        "        numpy.ndarray: 'matrix' elevada a 'n'\n",
        "    \"\"\"\n",
        "    if n == 1:\n",
        "        # Cualquier matriz elevada a 1 es ella misma\n",
        "        return matrix\n",
        "    if n % 2 == 0:\n",
        "        # Si n es par, dividimos el problema en matrix^(n/2) * matrix^(n/2)\n",
        "        half_power = matrix_exponentiation(matrix, n // 2)\n",
        "        # Multiplicamos las dos mitades para obtener matrix^n\n",
        "        return np.dot(half_power, half_power)\n",
        "    else:\n",
        "        # Si n es impar, dividimos el problema en:\n",
        "        # matrix^(n) = (matrix^((n-1)/2) * matrix^((n-1)/2)) * matrix\n",
        "        half_power = matrix_exponentiation(matrix, (n - 1) // 2)\n",
        "        return np.dot(np.dot(half_power, half_power), matrix)"
      ],
      "metadata": {
        "id": "yLxsNjLMuEHf"
      },
      "execution_count": 17,
      "outputs": []
    },
    {
      "cell_type": "markdown",
      "source": [
        "La relación matricial de Fibonacci permite calcular el n-ésimo número de Fibonacci de forma eficiente utilizando exponenciación de matrices. Esta propiedad se basa en la recurrencia de Fibonacci y se expresa como:\n",
        "\n",
        "$$\n",
        "\\begin{bmatrix}\n",
        "F(n) & F(n-1) \\\\\n",
        "F(n-1) & F(n-2)\n",
        "\\end{bmatrix}\n",
        "=\n",
        "\\begin{bmatrix}\n",
        "1 & 1 \\\\\n",
        "1 & 0\n",
        "\\end{bmatrix}^{n-1}\n",
        "$$\n",
        "\n",
        "A continuación, se implementa la función que calcula el n-ésimo número de Fibonacci haciendo uso de la exponenciación rápida vista justo arriba:"
      ],
      "metadata": {
        "id": "5J0sEOvoyZzf"
      }
    },
    {
      "cell_type": "code",
      "source": [
        "def fibonacci_matrix(n):\n",
        "    \"\"\"\n",
        "    Calcula el n-ésimo número de Fibonacci usando exponenciación matricial\n",
        "    Parámetros:\n",
        "        n (int): índice del número de Fibonacci a calcular\n",
        "    Salida:\n",
        "        fibo_value (int): n-ésimo número de Fibonacci\n",
        "    \"\"\"\n",
        "    if n <= 0:\n",
        "        # Caso base 0: Fibonacci(0) = 0.\n",
        "        return 0\n",
        "    if n == 1:\n",
        "        # Caso base 1: Fibonacci(1) = 1.\n",
        "        return 1\n",
        "\n",
        "    # Definimos la matriz base que representa\n",
        "    # la relación de recurrencia de Fibonacci:\n",
        "    # [[1, 1],\n",
        "    #  [1, 0]]\n",
        "    base_matrix = np.array([[1, 1], [1, 0]])\n",
        "\n",
        "    # Elevamos la matriz base a la potencia (n-1)\n",
        "    result_matrix = matrix_exponentiation(base_matrix, n - 1)\n",
        "\n",
        "    # El valor Fibonacci(n) que buscamos está en la posición (0, 0) de 'result_matrix'\n",
        "    fibo_value = result_matrix[0, 0]\n",
        "    return fibo_value\n"
      ],
      "metadata": {
        "id": "w__XOYGwrxyt"
      },
      "execution_count": 18,
      "outputs": []
    },
    {
      "cell_type": "code",
      "source": [
        "# Ejemplo de uso\n",
        "n = 10  # Queremos calcular el décimo número de Fibonacci\n",
        "resultado = fibonacci_matrix(n)\n",
        "print(f\"Resultado usando exponenciación matricial para n={n}: {resultado}\")"
      ],
      "metadata": {
        "colab": {
          "base_uri": "https://localhost:8080/"
        },
        "id": "4yhnwz_Ytc-r",
        "outputId": "70c9a820-69fe-40ba-c22a-3b8806bd4f8b"
      },
      "execution_count": 19,
      "outputs": [
        {
          "output_type": "stream",
          "name": "stdout",
          "text": [
            "Resultado usando exponenciación matricial para n=10: 55\n"
          ]
        }
      ]
    }
  ]
}