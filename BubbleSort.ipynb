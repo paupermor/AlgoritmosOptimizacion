{
  "nbformat": 4,
  "nbformat_minor": 0,
  "metadata": {
    "colab": {
      "provenance": [],
      "authorship_tag": "ABX9TyMnsKZW+Y1gC0nnCrHS2iE7",
      "include_colab_link": true
    },
    "kernelspec": {
      "name": "python3",
      "display_name": "Python 3"
    },
    "language_info": {
      "name": "python"
    }
  },
  "cells": [
    {
      "cell_type": "markdown",
      "metadata": {
        "id": "view-in-github",
        "colab_type": "text"
      },
      "source": [
        "<a href=\"https://colab.research.google.com/github/paupermor/AlgoritmosOptimizacion/blob/BubbleSort/BubbleSort.ipynb\" target=\"_parent\"><img src=\"https://colab.research.google.com/assets/colab-badge.svg\" alt=\"Open In Colab\"/></a>"
      ]
    },
    {
      "cell_type": "markdown",
      "source": [
        "# Algoritmo de ordenación de burbuja (bubble sort)"
      ],
      "metadata": {
        "id": "5GVqUzZKdlIy"
      }
    },
    {
      "cell_type": "code",
      "execution_count": 1,
      "metadata": {
        "id": "4Qwu0mJEdck6"
      },
      "outputs": [],
      "source": [
        "def bubble_sort(lista):\n",
        "  \"\"\"\n",
        "  Implementación del algoritmo de ordenación de burbuja.\n",
        "  Ordena una lista de números en orden ascendente.\n",
        "  \"\"\"\n",
        "  n = len(lista) # Nº de elementos en la lista\n",
        "\n",
        "  # Se recorre la lista\n",
        "  for i in range(n):\n",
        "    # En cada iteración, los últimos i elementos ya están ordenados\n",
        "    for j in range(0, n - i - 1):\n",
        "      # Comparamos el elemento actual con el siguiente\n",
        "      if lista[j] > lista[j + 1]:\n",
        "        # Si el actual es mayor, los intercambiamos\n",
        "        lista[j], lista[j + 1] = lista[j + 1], lista[j]\n",
        "\n",
        "  # Se devuelve la lista ordenada\n",
        "  return lista"
      ]
    },
    {
      "cell_type": "code",
      "source": [
        "# Ejemplo numérico\n",
        "lista_test   = [2, 10, 25, 12, 22, 11, 90]\n",
        "bubble_sort(lista_test)\n",
        "print(\"Lista ordenada:\", lista_test)"
      ],
      "metadata": {
        "colab": {
          "base_uri": "https://localhost:8080/"
        },
        "id": "4aBnj_GUe3eb",
        "outputId": "45bb1e02-39a8-4720-ff27-5b0132153f57"
      },
      "execution_count": 2,
      "outputs": [
        {
          "output_type": "stream",
          "name": "stdout",
          "text": [
            "Lista ordenada: [2, 10, 11, 12, 22, 25, 90]\n"
          ]
        }
      ]
    },
    {
      "cell_type": "markdown",
      "source": [
        "### Optimización del algoritmo\n",
        "Detener el proceso si la lista ya está ordenada haciendo uso de una flag:"
      ],
      "metadata": {
        "id": "T5Vnjk63kNis"
      }
    },
    {
      "cell_type": "code",
      "source": [
        "def bubble_sort_opt(lista):\n",
        "  \"\"\"\n",
        "  Implementación optimizada del algoritmo de ordenación de burbuja.\n",
        "  Se detiene si en una iteración no se realizan intercambios, lo que indica que la lista ya está ordenada.\n",
        "  \"\"\"\n",
        "  n = len(lista) # Nº de elementos en la lista\n",
        "\n",
        "  # Se recorre la lista\n",
        "  for i in range(n):\n",
        "    intercambio = False # Flag para comprobar si ha habido algún intercambio\n",
        "    # En cada iteración, los últimos i elementos ya están ordenados\n",
        "    for j in range(0, n - i - 1):\n",
        "      # Comparamos el elemento actual con el siguiente\n",
        "      if lista[j] > lista[j + 1]:\n",
        "        # Si el actual es mayor, los intercambiamos\n",
        "        lista[j], lista[j + 1] = lista[j + 1], lista[j]\n",
        "        # Se activa la flag para indicar que ha habido un intercambio\n",
        "        intercambio = True\n",
        "\n",
        "    # Si no ha habido intercambios, la lista ya está ordenada\n",
        "    if not intercambio:\n",
        "      break  # Salimos del bucle porque ya no hay nada más que ordenar\n",
        "\n",
        "  # Se devuelve la lista ordenada\n",
        "  return lista"
      ],
      "metadata": {
        "id": "dZPQbF4nkeoE"
      },
      "execution_count": 3,
      "outputs": []
    },
    {
      "cell_type": "code",
      "source": [
        "# Ejemplo numérico\n",
        "\n",
        "# Lista desordenada\n",
        "lista_test = [2, 10, 25, 12, 22, 11, 90]\n",
        "bubble_sort_opt(lista_test)\n",
        "print(\"Lista desordenada con el algortimo optimizado:\", lista_test)\n",
        "\n",
        "# Lista inicialmente ordenada\n",
        "lista_test_sorted = [2, 10, 12, 15, 35, 48, 78]\n",
        "bubble_sort_opt(lista_test_sorted)\n",
        "print(\"Lista ordenada con el algortimo optimizado:\", lista_test_sorted)"
      ],
      "metadata": {
        "colab": {
          "base_uri": "https://localhost:8080/"
        },
        "id": "59NSWpGbzI6G",
        "outputId": "4120b667-6dd8-407b-c1ca-e93f1ab86236"
      },
      "execution_count": 4,
      "outputs": [
        {
          "output_type": "stream",
          "name": "stdout",
          "text": [
            "Lista desordenada con el algortimo optimizado: [2, 10, 11, 12, 22, 25, 90]\n",
            "Lista ordenada con el algortimo optimizado: [2, 10, 12, 15, 35, 48, 78]\n"
          ]
        }
      ]
    },
    {
      "cell_type": "markdown",
      "source": [
        "### Algoritmo de ordenación de burbuja **bidireccional** (Cocktail sort)\n",
        "Se ordenan los elementos de la lista en ambas direcciones para ser más rápido:"
      ],
      "metadata": {
        "id": "GqA78mjypk6g"
      }
    },
    {
      "cell_type": "code",
      "source": [
        "def cocktail_sort(lista):\n",
        "    \"\"\"\n",
        "    Implementación del algoritmo de burbuja bidireccional (Cocktail sort).\n",
        "    Ordena una lista de números en ambas direcciones para mejorar la eficiencia.\n",
        "    \"\"\"\n",
        "    n = len(lista)      # Nº de elementos en la lista\n",
        "    inicio = 0          # Índice inicial para las comparaciones\n",
        "    fin = n - 1         # Índice final para las comparaciones\n",
        "    intercambio = True  # Flag para comprobar si ha habido algún intercambio\n",
        "\n",
        "    # Mientras se haya producido un intercambio\n",
        "    while intercambio:\n",
        "\n",
        "        intercambio = False  # Reiniciamos la flag en cada pasada\n",
        "\n",
        "        # Pasada izquierda --> derecha\n",
        "        for i in range(inicio, fin):\n",
        "            # Comparamos el elemento actual con el siguiente\n",
        "            if lista[i] > lista[i + 1]:\n",
        "                # Si el actual es mayor, los intercambiamos\n",
        "                lista[i], lista[i + 1] = lista[i + 1], lista[i]\n",
        "                # Se activa la flag para indicar que ha habido un intercambio\n",
        "                intercambio = True\n",
        "\n",
        "        # Si no ha habido intercambios en la pasada izquierda --> derecha, la lista ya está ordenada\n",
        "        if not intercambio:\n",
        "            break  # Salimos del bucle\n",
        "\n",
        "        # Reducimos el rango superior, ya que el último elemento ya está en su posición correcta\n",
        "        fin -= 1\n",
        "\n",
        "        intercambio = False # Reiniciamos la flag para la pasada inversa\n",
        "\n",
        "        # Pasada derecha --> izquierda\n",
        "        for i in range(fin - 1, inicio - 1, -1):\n",
        "            # Comparamos el elemento actual con el siguiente\n",
        "            if lista[i] > lista[i + 1]:\n",
        "                # Si el actual es mayor, los intercambiamos\n",
        "                lista[i], lista[i + 1] = lista[i + 1], lista[i]\n",
        "                # Se activa la flag para indicar que ha habido un intercambio\n",
        "                intercambio = True\n",
        "\n",
        "        # Incrementamos el rango inferior, ya que el primer elemento ya está en su posición correcta\n",
        "        inicio += 1\n",
        "\n",
        "    # Se devuelve la lista ordenada\n",
        "    return lista"
      ],
      "metadata": {
        "id": "6TTJLMKPpzhG"
      },
      "execution_count": 5,
      "outputs": []
    },
    {
      "cell_type": "code",
      "source": [
        "# Ejemplo numérico\n",
        "\n",
        "# Lista desordenada\n",
        "lista_test = [2, 10, 25, 12, 22, 11, 90]\n",
        "cocktail_sort(lista_test)\n",
        "print(\"Lista desordenada usando Cocktail sort:\", lista_test)\n",
        "\n",
        "# Lista inicialmente ordenada\n",
        "lista_test_sorted = [2, 10, 12, 15, 35, 48, 78]\n",
        "cocktail_sort(lista_test_sorted)\n",
        "print(\"Lista ordenada usando Cocktail sort:\", lista_test_sorted)"
      ],
      "metadata": {
        "colab": {
          "base_uri": "https://localhost:8080/"
        },
        "id": "krh2jNpqzfWm",
        "outputId": "b43cbbc9-1d75-464c-9719-510357bc8649"
      },
      "execution_count": 6,
      "outputs": [
        {
          "output_type": "stream",
          "name": "stdout",
          "text": [
            "Lista desordenada usando Cocktail sort: [2, 10, 11, 12, 22, 25, 90]\n",
            "Lista ordenada usando Cocktail sort: [2, 10, 12, 15, 35, 48, 78]\n"
          ]
        }
      ]
    }
  ]
}